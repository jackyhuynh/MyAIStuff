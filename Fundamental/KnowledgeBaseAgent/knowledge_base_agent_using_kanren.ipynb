{
 "cells": [
  {
   "cell_type": "code",
   "execution_count": 2,
   "id": "e0928da5",
   "metadata": {},
   "outputs": [
    {
     "name": "stdout",
     "output_type": "stream",
     "text": [
      "Collecting kanren\n",
      "  Downloading kanren-0.2.3.tar.gz (23 kB)\n",
      "  Preparing metadata (setup.py): started\n",
      "  Preparing metadata (setup.py): finished with status 'done'\n",
      "Requirement already satisfied: toolz in c:\\users\\jacky\\anaconda3\\lib\\site-packages (from kanren) (0.11.1)\n",
      "Requirement already satisfied: multipledispatch in c:\\users\\jacky\\anaconda3\\lib\\site-packages (from kanren) (0.6.0)\n",
      "Collecting unification\n",
      "  Downloading unification-0.2.2-py2.py3-none-any.whl (10 kB)\n",
      "Requirement already satisfied: six in c:\\users\\jacky\\anaconda3\\lib\\site-packages (from multipledispatch->kanren) (1.15.0)\n",
      "Building wheels for collected packages: kanren\n",
      "  Building wheel for kanren (setup.py): started\n",
      "  Building wheel for kanren (setup.py): finished with status 'done'\n",
      "  Created wheel for kanren: filename=kanren-0.2.3-py3-none-any.whl size=15859 sha256=edc9fdf30b54d633907dde60faae724659fd8bee113ceaefc00ceccd73ebcdca\n",
      "  Stored in directory: c:\\users\\jacky\\appdata\\local\\pip\\cache\\wheels\\69\\e7\\58\\f138e1a8e1b6a717490d4c69ed313e46b459fb5bde2a100b9b\n",
      "Successfully built kanren\n",
      "Installing collected packages: unification, kanren\n",
      "Successfully installed kanren-0.2.3 unification-0.2.2\n",
      "\n",
      "[notice] A new release of pip available: 22.1.2 -> 22.2.2\n",
      "[notice] To update, run: python.exe -m pip install --upgrade pip\n"
     ]
    }
   ],
   "source": [
    "!pip install kanren"
   ]
  },
  {
   "cell_type": "markdown",
   "id": "cdbd6683",
   "metadata": {},
   "source": [
    "## Process of Knowledge Engineering\n",
    "\n",
    "1. Identify the task:\n",
    "- What are the questions to be answered? (answering question)\n",
    "- What facts do we need for each one?\n",
    "- PEAS specification. (what fact we need)\n",
    "\n",
    "2. Assemble the knowledge: (What I am going to do)\n",
    "- Knowledge Acquisition (bottleneck) (get the data into system -> Convert domain knowledge into human knowledge).\n",
    "- Determine how the domain works.\n",
    "- Engage in Knowledge Elicitation\n",
    "\n",
    "3. Select the vocabulary / representation: (How I am going to do it)\n",
    "- What functions, predicates, etc. should we use.\n",
    "- Define the domain ontology.\n",
    "- Crucial for efficiency.\n",
    "\n",
    "4. Encode general knowledge:\n",
    "- Write down all basic axioms.\n",
    "- Implement a basic KB.\n",
    "\n",
    "5. Encode a specific problem:\n",
    "- Actually realize a problem in the representation.\n",
    "- Encode problem-specific KB and complex knowledge.\n",
    "- Consider procedural knowledge.\n",
    "\n",
    "6. Pose queries:\n",
    "- Extract information from the KB to get answers.\n",
    "\n",
    "7. Debugging!\n",
    "- Check the KB for inconsistencies.\n",
    "- Reevaluate basic representational decisions."
   ]
  },
  {
   "cell_type": "markdown",
   "id": "7db18c75",
   "metadata": {},
   "source": [
    "https://openbase.com/python/kanren/documentation"
   ]
  },
  {
   "cell_type": "code",
   "execution_count": 4,
   "id": "afbc677e",
   "metadata": {},
   "outputs": [
    {
     "name": "stdout",
     "output_type": "stream",
     "text": [
      "Requirement already satisfied: pip in c:\\users\\jacky\\anaconda3\\lib\\site-packages (22.1.2)\n",
      "Collecting pip\n",
      "  Using cached pip-22.2.2-py3-none-any.whl (2.0 MB)\n",
      "Installing collected packages: pip\n",
      "  Attempting uninstall: pip\n",
      "    Found existing installation: pip 22.1.2\n",
      "    Uninstalling pip-22.1.2:\n",
      "      Successfully uninstalled pip-22.1.2\n",
      "Successfully installed pip-22.2.2\n"
     ]
    }
   ],
   "source": [
    "# !python.exe -m pip install --upgrade pip"
   ]
  },
  {
   "cell_type": "code",
   "execution_count": 5,
   "id": "707f10cb",
   "metadata": {},
   "outputs": [
    {
     "name": "stdout",
     "output_type": "stream",
     "text": [
      "In the race: ('Charles LecLerc', 'Lewis Hamilton', 'Max Verstappen')\n",
      "Fastest driver was ('Charles LecLerc',)\n",
      "The winner was ('Charles LecLerc',)\n",
      "Lost: ('Max Verstappen',)\n"
     ]
    }
   ],
   "source": [
    "\"\"\"\n",
    "F1 race in Kanren\n",
    "by Karen C Fisher - Thursday, August 4, 2022, 2:00 PM\n",
    "\"\"\"\n",
    "\n",
    "from kanren import run, var, fact, Relation, lall\n",
    "\n",
    "# define relations\n",
    "f1_racer = Relation()\n",
    "takes_pole = Relation()\n",
    "win = Relation()\n",
    "finish_first = Relation()\n",
    "not_crash = Relation()\n",
    "crash = Relation()\n",
    "\n",
    "# bind facts\n",
    "fact(f1_racer, \"Lewis Hamilton\")\n",
    "fact(f1_racer, \"Max Verstappen\")\n",
    "fact(f1_racer, \"Charles LecLerc\")\n",
    "fact(crash, \"Max Verstappen\")\n",
    "fact(not_crash, \"Charles LecLerc\")\n",
    "fact(not_crash, \"Lewis Hamilton\")\n",
    "fact(takes_pole, \"Charles LecLerc\")\n",
    "fact(finish_first, \"Charles LecLerc\")\n",
    "\n",
    "# rules\n",
    "# This rules define who is the fastest player base on fact\n",
    "def fastest(x):\n",
    "    return lall(f1_racer(x), takes_pole(x))\n",
    "\n",
    "# This rules define who is the crash player base on fact\n",
    "def lose_race(x):\n",
    "    return crash(x)\n",
    "\n",
    "# This rules define who win the race\n",
    "def win_race(x):\n",
    "    return lall(f1_racer(x), finish_first(x), not_crash(x))\n",
    "\n",
    "# Run\n",
    "x = var()\n",
    "racers = run(0, x, f1_racer(x))\n",
    "print(f'In the race: {racers}')\n",
    "\n",
    "fast = run(0, x, fastest(x))\n",
    "print(f'Fastest driver was {fast}')\n",
    "\n",
    "winner = run(0, x, win_race(x))\n",
    "print(f'The winner was {winner}')\n",
    "\n",
    "loser = run(0, x, lose_race(x))\n",
    "print(f'Lost: {loser}')"
   ]
  },
  {
   "cell_type": "code",
   "execution_count": null,
   "id": "a828bf90",
   "metadata": {},
   "outputs": [],
   "source": []
  },
  {
   "cell_type": "code",
   "execution_count": 7,
   "id": "852d3c7a",
   "metadata": {},
   "outputs": [
    {
     "name": "stdout",
     "output_type": "stream",
     "text": [
      "In the company: ('LH', 'MV', 'CL')\n",
      "Fastest driver was ('CL',)\n",
      "Lost: ('LH',)\n"
     ]
    }
   ],
   "source": [
    "\"\"\"\n",
    "employee of the month\n",
    "by Truc Huynh\n",
    "\"\"\"\n",
    "\n",
    "from kanren import run, var, fact, Relation, lall\n",
    "\n",
    "# define relations\n",
    "employee = Relation()\n",
    "not_check = Relation()\n",
    "check = Relation()\n",
    "most_sale = Relation()\n",
    "\n",
    "# bind facts\n",
    "fact(employee, \"LH\")\n",
    "fact(employee, \"MV\")\n",
    "fact(employee, \"CL\")\n",
    "fact(not_check, \"LH\")\n",
    "fact(check, \"CL\")\n",
    "fact(check, \"MV\")\n",
    "fact(most_sale, \"CL\")\n",
    "\n",
    "# rules\n",
    "def employee_of_month(x):\n",
    "    return lall(employee(x), most_sale(x), check(x))\n",
    "\n",
    "def bad_employee(x):\n",
    "    return not_check(x)\n",
    "\n",
    "x = var()\n",
    "# Who is the employee in the company\n",
    "employees = run(0, x, employee(x))\n",
    "print(f'In the company: {employees}')\n",
    "\n",
    "# Who is the employee of the month\n",
    "em_of_month = run(0, x, employee_of_month(x))\n",
    "print(f'Fastest driver was {em_of_month}')\n",
    "\n",
    "# Who is the loser (not check email)\n",
    "loser = run(0, x, bad_employee(x))\n",
    "print(f'Lost: {loser}')"
   ]
  }
 ],
 "metadata": {
  "kernelspec": {
   "display_name": "Python 3",
   "language": "python",
   "name": "python3"
  },
  "language_info": {
   "codemirror_mode": {
    "name": "ipython",
    "version": 3
   },
   "file_extension": ".py",
   "mimetype": "text/x-python",
   "name": "python",
   "nbconvert_exporter": "python",
   "pygments_lexer": "ipython3",
   "version": "3.8.8"
  }
 },
 "nbformat": 4,
 "nbformat_minor": 5
}
