{
 "cells": [
  {
   "cell_type": "markdown",
   "id": "9abcefcd",
   "metadata": {},
   "source": [
    "# Planning Approaches\n",
    "\n",
    "## What is planning in AI\n",
    "- Plannning is creativity and most difficult\n",
    "- Develop planning calculi that:\n",
    "    - Uses a factored representation.\n",
    "    - Efficiently scales up to complex problems.\n",
    "    - Admits forward and backward problem solving.\n",
    "    - Supports domain-independent heuristics.\n",
    "    - Handles time well.\n",
    "    \n",
    "- Action, time, change"
   ]
  }
 ],
 "metadata": {
  "kernelspec": {
   "display_name": "Python 3",
   "language": "python",
   "name": "python3"
  },
  "language_info": {
   "codemirror_mode": {
    "name": "ipython",
    "version": 3
   },
   "file_extension": ".py",
   "mimetype": "text/x-python",
   "name": "python",
   "nbconvert_exporter": "python",
   "pygments_lexer": "ipython3",
   "version": "3.8.8"
  }
 },
 "nbformat": 4,
 "nbformat_minor": 5
}
